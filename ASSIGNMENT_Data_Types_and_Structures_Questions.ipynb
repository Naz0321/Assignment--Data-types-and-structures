{
  "nbformat": 4,
  "nbformat_minor": 0,
  "metadata": {
    "colab": {
      "provenance": []
    },
    "kernelspec": {
      "name": "python3",
      "display_name": "Python 3"
    },
    "language_info": {
      "name": "python"
    }
  },
  "cells": [
    {
      "cell_type": "code",
      "execution_count": null,
      "metadata": {
        "id": "xZdKmT86R0_V"
      },
      "outputs": [],
      "source": []
    },
    {
      "cell_type": "markdown",
      "source": [
        "**Data Types and Structures Questions**\n",
        "\n",
        "Q1. What are data structures, and why are they important?\n",
        "\n",
        "Ans. A Data Structure is a way of organizing, storing, and managing data so that it can be accessed and modified efficiently. It defines the relationships between data, operations that can be performed on them, and the way they are stored in memory.\n",
        "\n",
        "Common data structures  include - Arrays, linked lists, stacks, Queues, Hash tables, trees, graphs.\n",
        "\n",
        "\n",
        "Q2. Explain the difference between mutable and immutable data types?\n",
        "\n",
        "Ans. In programming, particularly in Pyhton, data types are classified as mutable or immutable based on whether their values can be changed after creation.\n",
        "\n",
        "MUTABLE DATA TYPES -  Mutable objects can be modified after creation.\n",
        "\n",
        "Example Data types -\n",
        "- List (list)\n",
        "- Dictionary (dict)\n",
        "- Sets (set)\n",
        "- Byte arrays (bytearray)\n",
        "\n",
        "\n",
        "IMMUTABLE DATA TYPES - Immutable objects cannot be modified after creation. Any Change results in a new object being created.\n",
        "\n",
        "Examples Dat atypes-\n",
        "- Integers (int)\n",
        "- FLoating Points (float)\n",
        "- Strings (str)\n",
        "- Tuples (tuple)\n",
        "- Frozen sets (frozenset)\n",
        "- Bytes (bytes)\n",
        "\n",
        "\n",
        "\n",
        "Q3. What are the main differences between lsits and tuples in python?\n",
        "\n",
        "Ans. Main Differences in Lists and Tuples in Python are -\n",
        "\n",
        "\n",
        "LIST (list)\n",
        "- Mutable (can be modified)\n",
        "- Syntax- my_list = [1,2,3]\n",
        "- Performance - Slower (modifications require extra operations)\n",
        "- Memory usage - Higher (dyanamic allocation)\n",
        "- Use case - When data needs modification\n",
        "- Iteration spedd - Slightly slower\n",
        "\n",
        "\n",
        "TUPLE (tuple)\n",
        "- Immutable (cannot be modified)\n",
        "- Syntax - my_tuple (1,2,3)\n",
        "- Performance - Faster (fixed Size and optimized)\n",
        "- Memory Usage - lower (Static allocation)\n",
        "- Use case - When data should remain constant\n",
        "Iteration Speed- Faster due to immutability\n",
        "\n",
        "\n",
        "\n",
        "\n",
        "Q4. Describe how Dictionaries are store data?\n",
        "\n",
        "Ans. A Dictionariary (dict) in Python is a key-Value data structure that stores data efficiently using hashing.\n",
        "\n",
        "- Python dictionaries use a hash table to map keys to values.\n",
        "- each key is hashed using a hash function, which produces a unique numeric index.\n",
        "- The value is stored at that index in memory.\n",
        "\n",
        "\n",
        "Q5. Why might you use a set instead of a list in python?\n",
        "\n",
        "Ans. A Set (set) is an unordered collection of unique elements, while a list (list) is an ordered collection  that allows duplicates.\n",
        "\n",
        "Key Reason to use a set Instead of a List\n",
        " - Ensures all eelemnts are unique.\n",
        " - Fast\n",
        " - Generally lower if many duplicates exist\n",
        " - It is mutable.\n",
        "\n",
        "\n",
        "\n",
        "\n",
        "\n",
        "Q6.  What is a string in a Python, and how is it different from a list?\n",
        "\n",
        "\n",
        "Ans. A string (str) in a Python is a sequene of characters enclosed in quotes (\"\"). It is immutable, meaning its contents cannot be changed after creation.\n",
        "\n",
        "Example of a String -\n",
        "\n",
        "my_string = \"Hello World\"\n",
        "print(my_string)\n",
        "\n",
        "\n",
        "Key Differences Between a String and a List\n",
        "\n",
        "1. Strings Are Immutable, Lists Are Mutable\n",
        "2. Lists Can Store Multiple Data Types, Strings Cannot   \n",
        "3. Strings Have More Built-in Text Manipulation Methods\n",
        "\n",
        "\n",
        "Q7. How do tuples ensure data integrity in Pyhton?\n",
        "\n",
        "Ans. A Tuple in Pyhton is an immutable sequence, meaning once it is created, it cannot be changed. This immutability plays a crucial role in ensuring data integrity, preventing accidental modifications that could lead to unexpected behavior.\n",
        "\n",
        "1. Immutability Prevents Accidental Changes\n",
        "\n",
        "Since tuples cannot be modified, they protect data from unintended alterations.\n",
        "\n",
        "This ensures that critical data remains consistent throughout the program.\n",
        "\n",
        "\n",
        "Example: Protecting Configuration Data\n",
        "\n",
        "2. Tuples Can Be Used as Dictionary Keys (Ensuring Data Integrity in Mappings)\n",
        "\n",
        "Tuples are hashable (if they contain only immutable elements), so they can be used as keys in dictionaries.\n",
        "\n",
        "This ensures that the key remains unchanged, preventing data corruption.\n",
        "\n",
        "3. Tuples Prevent Unintended Side Effects in Functions\n",
        "\n",
        "When passing a tuple to a function, you guarantee that the function won’t modify the original data.\n",
        "\n",
        "This prevents bugs caused by accidental modifications.\n",
        "\n",
        "4. Tuples Are Thread-Safe (Ideal for Multi-Threading Applications)\n",
        "\n",
        "Because tuples are immutable, they require no locks or synchronization when used in multi-threaded programs.\n",
        "\n",
        "This avoids race conditions where multiple threads try to modify shared data.\n",
        "\n",
        "\n",
        "Q8. What is a hash table, and how does it relate to dictionaries in Pyhton?\n",
        "\n",
        "Ans. A hash table (or hash map) is a data structure that stores key-value pairs and allows for fast lookups, insertions, and deletions. It uses a hash function to convert a key into an index, where the value is stored.\n",
        "\n",
        "How Does a Hash Table Work?\n",
        "\n",
        "1. Hashing the Key\n",
        "\n",
        "A hash function converts the key into a unique integer (hash value).\n",
        "\n",
        "\n",
        "\n",
        "2. Storing the Value\n",
        "\n",
        "The hash value is used as an index in an array where the value is stored.\n",
        "\n",
        "\n",
        "\n",
        "3. Handling Collisions\n",
        "\n",
        "If two keys produce the same hash (collision), Python handles it using open addressing or chaining (linked lists).\n",
        "\n",
        "\n",
        "\n",
        "Q 9. Can lists contain different data types in Python?\n",
        "\n",
        "Ans. Yes, lists in Python can contain different data types because Python lists are heterogeneous. This means they can store elements of various types, including:\n",
        "\n",
        "Integers (int)\n",
        "\n",
        "Floating points (float)\n",
        "\n",
        "Strings (str)\n",
        "\n",
        "Booleans (bool)\n",
        "\n",
        "Lists (Nested Lists)\n",
        "\n",
        "Tuples, Dictionaries, Sets, and even Functions\n",
        "\n",
        "Example: List with Mixed Data Types\n",
        "\n",
        "my_list = [42, \"hello\", 3.14, True, [1, 2, 3], {\"key\": \"value\"}]\n",
        "print(my_list)\n",
        "# Output: [42, 'hello', 3.14, True, [1, 2, 3], {'key': 'value'}]\n",
        "\n",
        "Here, the list contains:\n",
        "✔ An integer (42)\n",
        "✔ A string (\"hello\")\n",
        "✔ A float (3.14)\n",
        "✔ A boolean (True)\n",
        "✔ A nested list ([1, 2, 3])\n",
        "✔ A dictionary ({\"key\": \"value\"})\n",
        "\n",
        "\n",
        "Q10. Explain why strings are immutable in Python?\n",
        "\n",
        "Ans. In Python, strings (str) are immutable, meaning they cannot be changed after creation. Any modification to a string results in the creation of a new string object rather than altering the original one.\n",
        "\n",
        "1. Memory Efficiency (String Interning)\n",
        "\n",
        "Python optimizes memory usage by interning frequently used strings.\n",
        "\n",
        "Since strings are immutable, Python can store and reuse the same string object instead of creating duplicates.\n",
        "\n",
        "2. Security and Hashability\n",
        "\n",
        "Immutable objects are hashable, meaning they can be used as dictionary keys or set elements.\n",
        "\n",
        "This ensures data integrity when using strings as keys in hash tables (dictionaries).\n",
        "\n",
        "3. Avoiding Unintended Side Effects\n",
        "\n",
        "Immutability prevents accidental modifications, which helps avoid bugs in large programs.\n",
        "\n",
        "4. Thread Safety (Concurrency)\n",
        "\n",
        "In multi-threaded applications, immutable objects are safe to share between threads.\n",
        "\n",
        "If multiple threads access the same string, no synchronization is needed since it cannot be modified.\n",
        "\n",
        "\n",
        "Q11. What advantages do dictionaries offer over lists for certain tasks?\n",
        "\n",
        "Ans. While both dictionaries (dict) and lists (list) store collections of data, dictionaries offer several advantages for specific use cases due to their key-value structure and use of hashing.\n",
        "\n",
        "1. Faster Lookups (O(1) vs. O(n))\n",
        "\n",
        "Dictionaries provide O(1) (constant time) lookup for retrieving values by key.\n",
        "\n",
        "Lists require O(n) (linear time) search, especially for large datasets.\n",
        "\n",
        "2. Unique Keys Prevent Duplicates\n",
        "\n",
        "Dictionaries automatically ensure unique keys (no duplicates).\n",
        "\n",
        "Lists allow duplicate values, which might require extra checks.\n",
        "\n",
        "3. Key-Based Access (More Readable Code)\n",
        "\n",
        "In a dictionary, each value is accessed directly by its key.\n",
        "\n",
        "Lists require index-based access, which can be less intuitive.\n",
        "\n",
        "\n",
        "Q12. Describe a scenario where using a tuple would be preferable over a list?\n",
        "\n",
        "Ans. A tuple is preferable over a list when data integrity, immutability, and performance are important. One such scenario is:\n",
        "\n",
        "🔹 Scenario: Storing GPS Coordinates (Latitude, Longitude)\n",
        "\n",
        "Imagine you're developing a mapping application where each location is represented by GPS coordinates (latitude, longitude).\n",
        "\n",
        "Why Use a Tuple Instead of a List?\n",
        "\n",
        "✅ Immutability → GPS coordinates should not change accidentally.\n",
        "\n",
        "✅ Faster Performance → Tuples consume less memory and have faster access times.\n",
        "\n",
        "✅ Hashability → Tuples can be used as dictionary keys for quick lookups.\n",
        "\n",
        "\n",
        "Q13. How do sets handle duplicate values in Python?\n",
        "\n",
        "Ans. In Python, sets (set) automatically remove duplicate values when elements are added. This is because sets use a hash table to store elements, ensuring that each element is unique.\n",
        "\n",
        "1. Automatic Deduplication in Sets\n",
        "\n",
        "When you add duplicate values to a set, Python automatically ignores them.\n",
        "\n",
        "Example: Removing Duplicates Using a Set\n",
        "\n",
        "2. Converting a List to a Set to Remove Duplicates\n",
        "\n",
        "You can use a set to eliminate duplicates from a list.\n",
        "\n",
        "3. Checking for Membership Is Faster in Sets (O(1) vs. O(n))\n",
        "\n",
        "Since sets use hashing, checking for membership is O(1) (constant time), while in a list, it takes O(n) (linear time).\n",
        "\n",
        "4. Ensuring Unique Elements in a Collection\n",
        "\n",
        "\n",
        "Q14. How does the “in” keyword work differently for lists and dictionaries?\n",
        "\n",
        "Ans. The in keyword is used to check if an element exists in a list or a dictionary, but it works differently in each case due to how data is stored and accessed.\n",
        "\n",
        "1. in with Lists (O(n) - Linear Search)\n",
        "\n",
        "When used with a list, Python performs a linear search (O(n) complexity).\n",
        "\n",
        "It checks each element one by one until a match is found.\n",
        "\n",
        "2. in with Dictionaries (O(1) - Hash Table Lookup)\n",
        "\n",
        "When used with a dictionary, in checks for keys, not values.\n",
        "\n",
        "Since dictionaries use a hash table, the lookup is O(1) (constant time) in most cases, making it much faster than searching in a list.\n",
        "\n",
        "3. Checking Dictionary Values (O(n) - Slower)\n",
        "\n",
        "To check if a value exists in a dictionary, use .values(), which requires a linear search (O(n)).\n",
        "\n",
        "\n",
        "Q15. Can you modify the elements of a tuple? Explain why or why not?\n",
        "\n",
        "Ans. No, tuples in Python are immutable, meaning you cannot modify, add, or remove elements after creation.\n",
        "\n",
        "Why Are Tuples Immutable?\n",
        "\n",
        "1. Memory Optimization → Tuples use less memory and improve performance.\n",
        "\n",
        "\n",
        "2. Hashability → Tuples can be used as dictionary keys and set elements because they do not change.\n",
        "\n",
        "\n",
        "3. Data Integrity → Prevents accidental modifications, making code more stable.\n",
        "\n",
        "Exception: Mutable Elements Inside Tuples\n",
        "\n",
        "If a tuple contains a mutable object (like a list), you can modify that mutable element, but not the tuple itself.\n",
        "\n",
        "\n",
        "Q16. What is a nested dictionary, and give an example of its use case?\n",
        "\n",
        "Ans. A nested dictionary is a dictionary inside another dictionary. It allows you to store structured and hierarchical data efficiently.\n",
        "\n",
        "Example Use Case: Storing Student Records\n",
        "\n",
        "A school database can use a nested dictionary to store student information, where each student has multiple attributes like name, age, and grades.\n",
        "\n",
        "\n",
        "students = {\n",
        "    \"101\": {\"name\": \"Alice\", \"age\": 20, \"grades\": {\"math\": 90, \"science\": 85}},\n",
        "\n",
        "    \"102\": {\"name\": \"Bob\", \"age\": 22, \"grades\": {\"math\": 78, \"science\": 80}},\n",
        "\n",
        "    \"103\": {\"name\": \"Charlie\", \"age\": 21, \"grades\": {\"math\": 85, \"science\": 88}},\n",
        "}\n",
        "\n",
        "\n",
        "Q17. Describe the time complexity of accessing elements in a dictionary?\n",
        "\n",
        "Ans. Python dictionaries are implemented using hash tables, allowing for fast key-based access. The time complexity for accessing elements depends on whether the operation is a best-case or worst-case scenario.\n",
        "\n",
        "1. Average Case (O(1) - Constant Time)\n",
        "\n",
        "✅ Accessing an element by key is O(1) (constant time) because Python computes a hash for the key and directly retrieves the value.\n",
        "\n",
        "Example: Fast Dictionary Access\n",
        "\n",
        "data = {\"name\": \"Alice\", \"age\": 25, \"city\": \"New York\"}\n",
        "print(data[\"age\"])  # ✅ O(1) lookup\n",
        "\n",
        "The dictionary directly maps the key to the value using its hash function, avoiding iteration.\n",
        "\n",
        "2. Worst Case (O(n) - Linear Time)\n",
        "\n",
        "❌ In rare cases, access time can degrade to O(n) due to hash collisions.\n",
        "\n",
        "If multiple keys generate the same hash, Python stores them in a linked list (chaining).\n",
        "\n",
        "Accessing an element then requires scanning the list, making it O(n) in the worst case.\n",
        "\n",
        "Q18. In what situations are lists preferred over dictionaries?\n",
        "\n",
        "Ans. Although dictionaries (dict) offer fast key-based access, lists (list) are preferable in certain situations due to their ordered structure, simplicity, and efficient iteration.\n",
        "\n",
        "1. Maintaining Order and Indexed Access (✅ Lists Preferred)\n",
        "\n",
        "Lists preserve the order of elements (since Python 3.7+).\n",
        "\n",
        "Dictionaries also maintain order, but lists are more natural for sequential data.2. Simple Data Collections Without Key-Value Mapping (✅ Lists Preferred)\n",
        "\n",
        "When elements do not need unique keys, lists are simpler and more memory-efficient.\n",
        "\n",
        "3. Fast Iteration Over Large Datasets (✅ Lists Preferred)\n",
        "\n",
        "Iterating over lists is faster than iterating over dictionary keys/values.\n",
        "\n",
        "Dictionaries have extra overhead due to hashing.\n",
        "\n",
        "4. When Order Matters in Sorting or Slicing (✅ Lists Preferred)\n",
        "\n",
        "Lists support slicing and sorting easily, while dictionaries require conversion.\n",
        "\n",
        "\n",
        "Q19. Why are dictionaries considered unordered, and how does that affect data retrieval?\n",
        "\n",
        "Ans. In older versions of Python (<3.7), dictionaries (dict) were considered unordered because they used hash tables to store data. This meant:\n",
        "\n",
        "1. The insertion order was not maintained—elements could appear in a different order when accessed.\n",
        "\n",
        "\n",
        "2. Keys were stored based on their hash values, not their insertion order.\n",
        "\n",
        "However, starting from Python 3.7, dictionaries preserve insertion order, meaning elements appear in the order they were added.\n",
        "\n",
        "How Does This Affect Data Retrieval?\n",
        "\n",
        "Even though Python 3.7+ maintains order, dictionaries are still fundamentally designed for fast lookups, not sequential access. This affects data retrieval in the following ways:\n",
        "\n",
        "1. Fast Key-Based Access (O(1) Time Complexity)\n",
        "\n",
        "Dictionaries are optimized for O(1) average-time lookups using hashing.\n",
        "\n",
        "2. No Indexed Access (Unlike Lists)\n",
        "\n",
        "Lists allow indexed access (list[0]), but dictionaries require key-based access (dict[key]).\n",
        "\n",
        "You cannot access elements by position like in a list.\n",
        "\n",
        "3. Retrieval Order (Before and After Python 3.7)\n",
        "\n",
        "Before Python 3.7: The order of elements could change unpredictably.\n",
        "\n",
        "\n",
        "\n",
        "Q20. Explain the difference between a list and a dictionary in terms of data retrieval.\n",
        "\n",
        "Ans. Lists (list) and dictionaries (dict) store data differently, which affects how elements are retrieved.\n",
        "\n",
        "\n",
        "---\n",
        "\n",
        "1. Accessing Elements in a List (Indexed Access - O(1) or O(n))\n",
        "\n",
        "Lists use integer-based indexing (list[index]).\n",
        "\n",
        "Retrieving an element by index is O(1) (constant time).\n",
        "\n",
        "Searching for an element without knowing its index requires O(n) (linear time).\n",
        "\n",
        "2. Accessing Elements in a Dictionary (Key-Based Lookup - O(1))\n",
        "\n",
        "Dictionaries store key-value pairs (dict[key]).\n",
        "\n",
        "\n"
      ],
      "metadata": {
        "id": "3kYJzkkCR222"
      }
    },
    {
      "cell_type": "code",
      "source": [
        "## **PRACTICAL QUESTIONS** ##\n",
        "\n",
        "# Q1. Write a code to create a string with your name and print it?\n",
        "# Ans.\n",
        "\n",
        "name=\"NAZ\"\n",
        "print(name)"
      ],
      "metadata": {
        "colab": {
          "base_uri": "https://localhost:8080/"
        },
        "id": "R777CENOsSBO",
        "outputId": "92081cbe-b710-4675-a6e0-5ddfc1581476"
      },
      "execution_count": null,
      "outputs": [
        {
          "output_type": "stream",
          "name": "stdout",
          "text": [
            "NAZ\n"
          ]
        }
      ]
    },
    {
      "cell_type": "code",
      "source": [
        "# Q2. Write a code to find the length of the string \"Hello World\"?\n",
        "# Ans.\n",
        "\n",
        "string=\"HELLO WORLD\"\n",
        "length = len(string)\n",
        "print(\"Length of the string:\", length)"
      ],
      "metadata": {
        "colab": {
          "base_uri": "https://localhost:8080/"
        },
        "id": "IokTVH0HtgyZ",
        "outputId": "d7844146-ff86-4b00-925e-47aa45e0a93c"
      },
      "execution_count": null,
      "outputs": [
        {
          "output_type": "stream",
          "name": "stdout",
          "text": [
            "Length of the string: 11\n"
          ]
        }
      ]
    },
    {
      "cell_type": "code",
      "source": [
        "# Q3. Write a code to slice the first 3 characters from the string \"Python Programming\"?\n",
        "\n",
        "#Ans.\n",
        "\n",
        "string = \"Python Programming\"\n",
        "sliced_string = string[:3]  # Slices from index 0 to 2\n",
        "print(\"First 3 characters:\", sliced_string)"
      ],
      "metadata": {
        "colab": {
          "base_uri": "https://localhost:8080/"
        },
        "id": "t1UwwczmuIR8",
        "outputId": "cc7a12e4-fd71-4406-eaa1-ee1f8cc01059"
      },
      "execution_count": null,
      "outputs": [
        {
          "output_type": "stream",
          "name": "stdout",
          "text": [
            "First 3 characters: Pyt\n"
          ]
        }
      ]
    },
    {
      "cell_type": "code",
      "source": [
        "# Q4. Write a code to convert the string \"hello\" to uppercase?\n",
        "\n",
        "#Ans.\n",
        "\n",
        "string = \"hello\"\n",
        "uppercase_string = string.upper()\n",
        "print(uppercase_string)"
      ],
      "metadata": {
        "colab": {
          "base_uri": "https://localhost:8080/"
        },
        "id": "25wTigZuvhAm",
        "outputId": "81305290-5eb6-47f7-de28-77bf2f9bb9b8"
      },
      "execution_count": null,
      "outputs": [
        {
          "output_type": "stream",
          "name": "stdout",
          "text": [
            "HELLO\n"
          ]
        }
      ]
    },
    {
      "cell_type": "code",
      "source": [
        "# Q5 .Write a code to replace the word \"apple\" with \"orange\" in the string \"I like apple\"?\n",
        "\n",
        "#Ans.\n",
        "\n",
        "string = \"I like apple\"\n",
        "new_string = string.replace(\"apple\", \"orange\")\n",
        "print(new_string)"
      ],
      "metadata": {
        "colab": {
          "base_uri": "https://localhost:8080/"
        },
        "id": "Nvf28eTgvzFF",
        "outputId": "f529355c-0214-4dd1-c700-8051565eecb3"
      },
      "execution_count": null,
      "outputs": [
        {
          "output_type": "stream",
          "name": "stdout",
          "text": [
            "I like orange\n"
          ]
        }
      ]
    },
    {
      "cell_type": "code",
      "source": [
        "# Q6. Write a code to create a list with numbers 1 to 5 and print it?\n",
        "\n",
        "# Ans.\n",
        "\n",
        "numbers = [1, 2, 3, 4, 5]\n",
        "print(numbers)"
      ],
      "metadata": {
        "colab": {
          "base_uri": "https://localhost:8080/"
        },
        "id": "kLVETC2GwEHS",
        "outputId": "015f0167-dbfe-49a1-9c00-587ac8144aed"
      },
      "execution_count": null,
      "outputs": [
        {
          "output_type": "stream",
          "name": "stdout",
          "text": [
            "[1, 2, 3, 4, 5]\n"
          ]
        }
      ]
    },
    {
      "cell_type": "code",
      "source": [
        "# Q7.  Write a code to append the number 10 to the list [1, 2, 3, 4] ?\n",
        "\n",
        "# Ans.\n",
        "\n",
        "numbers = [1, 2, 3, 4]\n",
        "numbers.append(10)\n",
        "print(numbers)"
      ],
      "metadata": {
        "colab": {
          "base_uri": "https://localhost:8080/"
        },
        "id": "qF6olC_RwUY3",
        "outputId": "a8a7eb4f-6c02-4a67-d9d3-1e04b11bde44"
      },
      "execution_count": null,
      "outputs": [
        {
          "output_type": "stream",
          "name": "stdout",
          "text": [
            "[1, 2, 3, 4, 10]\n"
          ]
        }
      ]
    },
    {
      "cell_type": "code",
      "source": [
        "# Q8. Write a code to remove the number 3 from the list [1, 2, 3, 4, 5]?\n",
        "\n",
        "#Ans.\n",
        "\n",
        "numbers = [1, 2, 3, 4, 5]\n",
        "numbers.remove(3)\n",
        "print(numbers)"
      ],
      "metadata": {
        "colab": {
          "base_uri": "https://localhost:8080/"
        },
        "id": "7A4_EC9owiKH",
        "outputId": "85a02ef0-99ff-450d-8009-74420b360bb0"
      },
      "execution_count": null,
      "outputs": [
        {
          "output_type": "stream",
          "name": "stdout",
          "text": [
            "[1, 2, 4, 5]\n"
          ]
        }
      ]
    },
    {
      "cell_type": "code",
      "source": [
        "# Q9. Write a code to access the second element in the list ['a', 'b', 'c', 'd'] ?\n",
        "\n",
        "# Ans\n",
        "\n",
        "letters = ['a', 'b', 'c', 'd']\n",
        "second_element = letters[1]  # Indexing starts from 0\n",
        "print(\"Second element:\", second_element)"
      ],
      "metadata": {
        "colab": {
          "base_uri": "https://localhost:8080/"
        },
        "id": "GJewlW01ww9a",
        "outputId": "31118ede-0711-4a8b-8b67-1f3442f59c23"
      },
      "execution_count": null,
      "outputs": [
        {
          "output_type": "stream",
          "name": "stdout",
          "text": [
            "Second element: b\n"
          ]
        }
      ]
    },
    {
      "cell_type": "code",
      "source": [
        "# Q10. Write a code to reverse the list [10, 20, 30, 40, 50].\n",
        "\n",
        "# Ans.\n",
        "\n",
        "numbers = [10, 20, 30, 40, 50]\n",
        "numbers.reverse()\n",
        "print(numbers)"
      ],
      "metadata": {
        "colab": {
          "base_uri": "https://localhost:8080/"
        },
        "id": "mi3dWdKixBrR",
        "outputId": "3e5e6641-d4be-421d-a537-6b04e5336149"
      },
      "execution_count": null,
      "outputs": [
        {
          "output_type": "stream",
          "name": "stdout",
          "text": [
            "[50, 40, 30, 20, 10]\n"
          ]
        }
      ]
    },
    {
      "cell_type": "code",
      "source": [
        "# Q11. Write a code to create a tuple with the elements 100, 200, 300 and print it.\n",
        "\n",
        "#Ans.\n",
        "\n",
        "numbers = (100, 200, 300)\n",
        "print(numbers)"
      ],
      "metadata": {
        "colab": {
          "base_uri": "https://localhost:8080/"
        },
        "id": "NC1YKKQWxYTh",
        "outputId": "8cf12f2b-e5cc-4dc4-f3d1-10c032b293ba"
      },
      "execution_count": null,
      "outputs": [
        {
          "output_type": "stream",
          "name": "stdout",
          "text": [
            "(100, 200, 300)\n"
          ]
        }
      ]
    },
    {
      "cell_type": "code",
      "source": [
        "# Q12. Write a code to access the second-to-last element of the tuple ('red', 'green', 'blue', 'yellow').\n",
        "\n",
        "# Ans.\n",
        "\n",
        "colors = ('red', 'green', 'blue', 'yellow')\n",
        "second_to_last = colors[-2]  # -1 is 'yellow', so -2 is 'blue'\n",
        "print(\"Second-to-last element:\", second_to_last)"
      ],
      "metadata": {
        "colab": {
          "base_uri": "https://localhost:8080/"
        },
        "id": "JAL7KpY-xncD",
        "outputId": "c43759a6-e02f-4750-d705-196777736b94"
      },
      "execution_count": null,
      "outputs": [
        {
          "output_type": "stream",
          "name": "stdout",
          "text": [
            "Second-to-last element: blue\n"
          ]
        }
      ]
    },
    {
      "cell_type": "code",
      "source": [
        "# Q13. Write a code to find the minimum number in the tuple (10, 20, 5, 15).\n",
        "\n",
        "# Ans.\n",
        "\n",
        "numbers = (10, 20, 5, 15)\n",
        "min_number = min(numbers)\n",
        "print(\"Minimum number:\", min_number)"
      ],
      "metadata": {
        "colab": {
          "base_uri": "https://localhost:8080/"
        },
        "id": "W6muaLGLx96v",
        "outputId": "f9cc18c4-338f-4db7-c50b-37d1d16f011b"
      },
      "execution_count": null,
      "outputs": [
        {
          "output_type": "stream",
          "name": "stdout",
          "text": [
            "Minimum number: 5\n"
          ]
        }
      ]
    },
    {
      "cell_type": "code",
      "source": [
        "# Q14. Write a code to find the index of the element \"cat\" in the tuple ('dog', 'cat', 'rabbit').\n",
        "\n",
        "# Ans.\n",
        "\n",
        "animals = ('dog', 'cat', 'rabbit')\n",
        "index_of_cat = animals.index('cat')\n",
        "print(\"Index of 'cat':\", index_of_cat)"
      ],
      "metadata": {
        "colab": {
          "base_uri": "https://localhost:8080/"
        },
        "id": "g5-2IPg7P01o",
        "outputId": "2fe17f46-7c3d-4f09-c005-9829c1f10fd4"
      },
      "execution_count": null,
      "outputs": [
        {
          "output_type": "stream",
          "name": "stdout",
          "text": [
            "Index of 'cat': 1\n"
          ]
        }
      ]
    },
    {
      "cell_type": "code",
      "source": [
        "# Q15. Write a code to create a tuple containing three different fruits and check if \"kiwi\" is in it.\n",
        "\n",
        "#Ans.\n",
        "\n",
        "fruits = ('apple', 'banana', 'orange')\n",
        "if 'kiwi' in fruits:\n",
        "    print(\"Kiwi is in the tuple.\")\n",
        "else:\n",
        "    print(\"Kiwi is not in the tuple.\")"
      ],
      "metadata": {
        "colab": {
          "base_uri": "https://localhost:8080/"
        },
        "id": "CX9gzXi-QQMv",
        "outputId": "19e5acb7-ccf3-49b0-ea6c-f3c3f6f59e57"
      },
      "execution_count": null,
      "outputs": [
        {
          "output_type": "stream",
          "name": "stdout",
          "text": [
            "Kiwi is not in the tuple.\n"
          ]
        }
      ]
    },
    {
      "cell_type": "code",
      "source": [
        "# Q16. Write a code to create a set with the elements 'a', 'b', 'c' and print it.\n",
        "\n",
        "# Ans.\n",
        "\n",
        "my_set = {'a', 'b', 'c'}\n",
        "print(my_set)"
      ],
      "metadata": {
        "colab": {
          "base_uri": "https://localhost:8080/"
        },
        "id": "dxmuycOcQrQY",
        "outputId": "1d88b70b-9310-4652-d018-c5aba98b9063"
      },
      "execution_count": null,
      "outputs": [
        {
          "output_type": "stream",
          "name": "stdout",
          "text": [
            "{'a', 'c', 'b'}\n"
          ]
        }
      ]
    },
    {
      "cell_type": "code",
      "source": [
        "# Q17. Write a code to clear all elements from the set {1, 2, 3, 4, 5}.\n",
        "\n",
        "# Ans.\n",
        "\n",
        "my_set = {1, 2, 3, 4, 5}\n",
        "my_set.clear()\n",
        "print(my_set)"
      ],
      "metadata": {
        "colab": {
          "base_uri": "https://localhost:8080/"
        },
        "id": "pDtx1WkGRUSp",
        "outputId": "752e6f0e-f877-4196-b710-4e1fa24170df"
      },
      "execution_count": null,
      "outputs": [
        {
          "output_type": "stream",
          "name": "stdout",
          "text": [
            "set()\n"
          ]
        }
      ]
    },
    {
      "cell_type": "code",
      "source": [
        "# Q18. Write a code to remove the element 4 from the set {1, 2, 3, 4}.\n",
        "\n",
        "# Ans.\n",
        "\n",
        "my_set = {1, 2, 3, 4}\n",
        "my_set.remove(4)\n",
        "print(my_set)\n"
      ],
      "metadata": {
        "colab": {
          "base_uri": "https://localhost:8080/"
        },
        "id": "QN4MumZVRlHG",
        "outputId": "4470f997-6fee-4cd9-fb13-d305ec7ade3f"
      },
      "execution_count": null,
      "outputs": [
        {
          "output_type": "stream",
          "name": "stdout",
          "text": [
            "{1, 2, 3}\n"
          ]
        }
      ]
    },
    {
      "cell_type": "code",
      "source": [
        "# Q19. Write a code to find the union of two sets {1, 2, 3} and {3, 4, 5}.\n",
        "\n",
        "# Ans.\n",
        "\n",
        "set1 = {1, 2, 3}\n",
        "set2 = {3, 4, 5}\n",
        "union_set = set1.union(set2)\n",
        "print(union_set)"
      ],
      "metadata": {
        "colab": {
          "base_uri": "https://localhost:8080/"
        },
        "id": "HeSMy2ebTGvJ",
        "outputId": "fdf74307-185b-4a8d-d458-116ad6aef129"
      },
      "execution_count": null,
      "outputs": [
        {
          "output_type": "stream",
          "name": "stdout",
          "text": [
            "{1, 2, 3, 4, 5}\n"
          ]
        }
      ]
    },
    {
      "cell_type": "code",
      "source": [
        "# Q20. Write a code to find the intersection of two sets {1, 2, 3} and {2, 3, 4}.\n",
        "\n",
        "# Ans.\n",
        "\n",
        "set1 = {1, 2, 3}\n",
        "set2 = {2, 3, 4}\n",
        "intersection_set = set1.intersection(set2)\n",
        "print(intersection_set)"
      ],
      "metadata": {
        "colab": {
          "base_uri": "https://localhost:8080/"
        },
        "id": "wT_hegpUTfSQ",
        "outputId": "b498f739-58e8-4565-adbc-f810d3865c77"
      },
      "execution_count": null,
      "outputs": [
        {
          "output_type": "stream",
          "name": "stdout",
          "text": [
            "{2, 3}\n"
          ]
        }
      ]
    },
    {
      "cell_type": "code",
      "source": [
        "# Q21. Write a code to create a dictionary with the keys \"name\", \"age\", and \"city\", and print it.\n",
        "\n",
        "# Ans.\n",
        "\n",
        "person = {\n",
        "    \"name\": \"Naz\",\n",
        "    \"age\": 25,\n",
        "    \"city\": \"India\"\n",
        "}\n",
        "print(person)"
      ],
      "metadata": {
        "colab": {
          "base_uri": "https://localhost:8080/"
        },
        "id": "XhbWMAAxTuD8",
        "outputId": "8c07add2-8a0d-4707-b3df-ce6da965e7bc"
      },
      "execution_count": null,
      "outputs": [
        {
          "output_type": "stream",
          "name": "stdout",
          "text": [
            "{'name': 'Naz', 'age': 25, 'city': 'India'}\n"
          ]
        }
      ]
    },
    {
      "cell_type": "code",
      "source": [
        "# Q22. Write a code to add a new key-value pair \"country\": \"USA\" to the dictionary {'name': 'John', 'age': 25}.\n",
        "\n",
        "# Ans.\n",
        "\n",
        "person = {'name': 'John', 'age': 25}\n",
        "person['country'] = 'USA'\n",
        "print(person)"
      ],
      "metadata": {
        "colab": {
          "base_uri": "https://localhost:8080/"
        },
        "id": "feP1Qj_eUfnt",
        "outputId": "41cf2c40-123c-4452-ed7d-00b256882f61"
      },
      "execution_count": null,
      "outputs": [
        {
          "output_type": "stream",
          "name": "stdout",
          "text": [
            "{'name': 'John', 'age': 25, 'country': 'USA'}\n"
          ]
        }
      ]
    },
    {
      "cell_type": "code",
      "source": [
        "# Q23. Write a code to access the value associated with the key \"name\" in the dictionary {'name': 'Alice', 'age': 30}.\n",
        "\n",
        "# Ans.\n",
        "\n",
        "person = {'name': 'Alice', 'age': 30}\n",
        "name_value = person['name']\n",
        "print(\"Value associated with 'name':\", name_value)"
      ],
      "metadata": {
        "colab": {
          "base_uri": "https://localhost:8080/"
        },
        "id": "8G3TegvOUxUy",
        "outputId": "3c42daba-7a7c-422e-a265-0fe4e661b7e0"
      },
      "execution_count": null,
      "outputs": [
        {
          "output_type": "stream",
          "name": "stdout",
          "text": [
            "Value associated with 'name': Alice\n"
          ]
        }
      ]
    },
    {
      "cell_type": "code",
      "source": [
        "# Q24. Write a code to remove the key \"age\" from the dictionary {'name': 'Bob', 'age': 22, 'city': 'New York'}.\n",
        "\n",
        "# Ans.\n",
        "\n",
        "person = {'name': 'Bob', 'age': 22, 'city': 'New York'}\n",
        "del person['age']\n",
        "print(person)"
      ],
      "metadata": {
        "colab": {
          "base_uri": "https://localhost:8080/"
        },
        "id": "zI6NRQQCVJzO",
        "outputId": "6976ce37-6f0f-458b-c441-0f0df01fd0cb"
      },
      "execution_count": null,
      "outputs": [
        {
          "output_type": "stream",
          "name": "stdout",
          "text": [
            "{'name': 'Bob', 'city': 'New York'}\n"
          ]
        }
      ]
    },
    {
      "cell_type": "code",
      "source": [
        "# Q25. Write a code to check if the key \"city\" exists in the dictionary {'name': 'Alice', 'city': 'Paris'}.\n",
        "\n",
        "# Ans.\n",
        "\n",
        "person = {'name': 'Alice', 'city': 'Paris'}\n",
        "\n",
        "if 'city' in person:\n",
        "    print(\"The key 'city' exists in the dictionary.\")\n",
        "else:\n",
        "    print(\"The key 'city' does not exist in the dictionary.\")"
      ],
      "metadata": {
        "colab": {
          "base_uri": "https://localhost:8080/"
        },
        "id": "bS4VBNczVgsv",
        "outputId": "93c4c88f-b3ec-45c9-f854-a9680cd24dc3"
      },
      "execution_count": null,
      "outputs": [
        {
          "output_type": "stream",
          "name": "stdout",
          "text": [
            "The key 'city' exists in the dictionary.\n"
          ]
        }
      ]
    },
    {
      "cell_type": "code",
      "source": [
        "# Q26. Write a code to create a list, a tuple, and a dictionary, and print them all.\n",
        "\n",
        "# Ans.\n",
        "\n",
        "# Creating a list\n",
        "my_list = [1, 2, 3, 4, 5]\n",
        "\n",
        "# Creating a tuple\n",
        "my_tuple = ('apple', 'banana', 'cherry')\n",
        "\n",
        "# Creating a dictionary\n",
        "my_dict = {'name': 'Alice', 'age': 30, 'city': 'New York'}\n",
        "\n",
        "# Printing the list, tuple, and dictionary\n",
        "print(\"List:\", my_list)\n",
        "print(\"Tuple:\", my_tuple)\n",
        "print(\"Dictionary:\", my_dict)"
      ],
      "metadata": {
        "colab": {
          "base_uri": "https://localhost:8080/"
        },
        "id": "L_W_G6zEV0FQ",
        "outputId": "a378725e-a16e-44c3-8518-8bdb2d3034e4"
      },
      "execution_count": null,
      "outputs": [
        {
          "output_type": "stream",
          "name": "stdout",
          "text": [
            "List: [1, 2, 3, 4, 5]\n",
            "Tuple: ('apple', 'banana', 'cherry')\n",
            "Dictionary: {'name': 'Alice', 'age': 30, 'city': 'New York'}\n"
          ]
        }
      ]
    },
    {
      "cell_type": "code",
      "source": [
        "# Q27. Write a code to create a list of 5 random numbers between 1 and 100, sort it in ascending order, and print the result.(replaced)\n",
        "\n",
        "# Ans.\n",
        "\n",
        "import random\n",
        "\n",
        "# Generate a list of 5 random numbers between 1 and 100\n",
        "random_numbers = random.sample(range(1, 101), 5)\n",
        "\n",
        "# Sort the list in ascending order\n",
        "random_numbers.sort()\n",
        "\n",
        "# Print the sorted list\n",
        "print(\"Sorted random numbers:\", random_numbers)"
      ],
      "metadata": {
        "colab": {
          "base_uri": "https://localhost:8080/"
        },
        "id": "LlIoU1rPWGAj",
        "outputId": "9938dce7-edf0-4d51-fe6b-aedf97627f02"
      },
      "execution_count": null,
      "outputs": [
        {
          "output_type": "stream",
          "name": "stdout",
          "text": [
            "Sorted random numbers: [7, 13, 63, 70, 88]\n"
          ]
        }
      ]
    },
    {
      "cell_type": "code",
      "source": [
        "# Q28. Write a code to create a list with strings and print the element at the third index.\n",
        "\n",
        "# Ans.\n",
        "\n",
        "# Creating a list of strings\n",
        "fruits = ['apple', 'banana', 'cherry', 'date', 'strawberry']\n",
        "\n",
        "# Accessing and printing the element at index 3\n",
        "print(fruits[3])"
      ],
      "metadata": {
        "colab": {
          "base_uri": "https://localhost:8080/"
        },
        "id": "or5WKyISWf8T",
        "outputId": "ae7cb22a-ecab-4cc3-dee0-838c2f053342"
      },
      "execution_count": null,
      "outputs": [
        {
          "output_type": "stream",
          "name": "stdout",
          "text": [
            "date\n"
          ]
        }
      ]
    },
    {
      "cell_type": "code",
      "source": [
        "# Q29. Write a code to combine two dictionaries into one and print the result\n",
        "\n",
        "# Ans.\n",
        "\n",
        "dict1 = {'a': 1, 'b': 2}\n",
        "dict2 = {'c': 3, 'd': 4}\n",
        "\n",
        "# Create a copy of dict1 to avoid modifying the original\n",
        "combined_dict = dict1.copy()\n",
        "combined_dict.update(dict2)\n",
        "\n",
        "print(combined_dict)"
      ],
      "metadata": {
        "colab": {
          "base_uri": "https://localhost:8080/"
        },
        "id": "QH-xSnUTW-5v",
        "outputId": "0592959d-3917-48d4-99c1-04503357087d"
      },
      "execution_count": null,
      "outputs": [
        {
          "output_type": "stream",
          "name": "stdout",
          "text": [
            "{'a': 1, 'b': 2, 'c': 3, 'd': 4}\n"
          ]
        }
      ]
    },
    {
      "cell_type": "code",
      "source": [
        "# Q30. Write a code to convert a list of strings into a set.\n",
        "\n",
        "# Ans.\n",
        "\n",
        "# Sample list of strings\n",
        "string_list = ['Fuse', 'Dairymilk', '5-star', 'Perk', 'Crispello']\n",
        "\n",
        "# Convert list to set\n",
        "string_set = set(string_list)\n",
        "\n",
        "# Print the resulting set\n",
        "print(string_set)"
      ],
      "metadata": {
        "colab": {
          "base_uri": "https://localhost:8080/"
        },
        "id": "DBfCw630XSvV",
        "outputId": "e55ce0d7-e07c-47e6-caeb-ae9ec8305b0d"
      },
      "execution_count": null,
      "outputs": [
        {
          "output_type": "stream",
          "name": "stdout",
          "text": [
            "{'Dairymilk', 'Crispello', '5-star', 'Perk', 'Fuse'}\n"
          ]
        }
      ]
    },
    {
      "cell_type": "code",
      "source": [],
      "metadata": {
        "id": "ECnykL9BXjAw"
      },
      "execution_count": null,
      "outputs": []
    }
  ]
}